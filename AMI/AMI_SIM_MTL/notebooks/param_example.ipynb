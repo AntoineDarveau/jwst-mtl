{
 "cells": [
  {
   "cell_type": "markdown",
   "metadata": {},
   "source": [
    "# Parameter example"
   ]
  },
  {
   "cell_type": "markdown",
   "metadata": {},
   "source": [
    "## 1. Setup"
   ]
  },
  {
   "cell_type": "markdown",
   "metadata": {},
   "source": [
    " Setup notebook:"
   ]
  },
  {
   "cell_type": "code",
   "execution_count": 1,
   "metadata": {},
   "outputs": [],
   "source": [
    "# just for the notebook setup so we have the ami_sim module\n",
    "import sys\n",
    "sys.path.append('../')"
   ]
  },
  {
   "cell_type": "markdown",
   "metadata": {},
   "source": [
    "First we import from ami_sim"
   ]
  },
  {
   "cell_type": "code",
   "execution_count": 2,
   "metadata": {},
   "outputs": [],
   "source": [
    "from ami_sim_mtl.core.instrument import constants\n",
    "from ami_sim_mtl.core.core import param_functions"
   ]
  },
  {
   "cell_type": "markdown",
   "metadata": {},
   "source": [
    "All codes should have the following variables (at the start of the code)"
   ]
  },
  {
   "cell_type": "code",
   "execution_count": 3,
   "metadata": {},
   "outputs": [],
   "source": [
    "# =============================================================================\n",
    "# Define variables\n",
    "# =============================================================================\n",
    "# set name\n",
    "__NAME__ = 'bin/test.py'\n",
    "__DESCRIPTION__ = 'test script for AMI_SIM_MTL'\n",
    "# get default constants\n",
    "consts = constants.Consts\n",
    "# copy for update\n",
    "lconsts = consts.copy(__NAME__)\n",
    "# set very basic constants\n",
    "__VERSION__ = lconsts.constants['PACKAGE_VERSION'].value\n",
    "__DATE__ = lconsts.constants['PACKAGE_VERSION_DATE'].value"
   ]
  },
  {
   "cell_type": "markdown",
   "metadata": {},
   "source": [
    "Define custom arguments (just for this code)\n",
    "\n",
    "Example here we add a \"scene\" argument with the following properties:\n",
    "1. name = \"SCENE\"          # parameter name = \"SCENE\"\n",
    "2. dtype = str             # data type = python string\n",
    "3. source = `__NAME__`     # where the parameter was defined (here `__NAME__` is the code name)\n",
    "4. user = True             # whether to populate this value in any config file generated\n",
    "5. argument = True         # whether to use this variable from command line (must define \"command\" in this case)\n",
    "6. group = 'code'          # which group this variable belongs to (mostly for config file)\n",
    "7. description = ...       # a description for the help file / config file\n",
    "8. command = `['--scene']` # a list of commands to be able to use at run time e.g. in this case --scene=test.fits"
   ]
  },
  {
   "cell_type": "code",
   "execution_count": 4,
   "metadata": {},
   "outputs": [],
   "source": [
    "# Define the scene fits file\n",
    "lconsts.add_argument('SCENE', value=None, dtype=str,\n",
    "                     source=__NAME__, user=True, argument=True,\n",
    "                     group='code', description='Define the scene fits file',\n",
    "                     command=['--scene'])"
   ]
  },
  {
   "cell_type": "markdown",
   "metadata": {},
   "source": [
    "Now we can get parameters:"
   ]
  },
  {
   "cell_type": "code",
   "execution_count": 5,
   "metadata": {},
   "outputs": [],
   "source": [
    "kwargs = dict()                   # this is used for function calls (ignore for now)\n",
    "sys.argv = 'test.py'.split()      # this is where command lines arguments come from\n",
    "params = param_functions.setup(lconsts, kwargs, description=__DESCRIPTION__)"
   ]
  },
  {
   "cell_type": "markdown",
   "metadata": {},
   "source": [
    "For example params currently has the following:"
   ]
  },
  {
   "cell_type": "code",
   "execution_count": 6,
   "metadata": {},
   "outputs": [
    {
     "data": {
      "text/plain": [
       "ParamDict:\n",
       "\n",
       " \tUSER_CONFIG_FILE:             None                                          # core.instruments.constants.py\n",
       " \tPACKAGE_NAME:                 ami_sim_mtl                                   # core.instruments.constants.py\n",
       " \tPACKAGE_VERSION:              0.0.001                                       # core.instruments.constants.py\n",
       " \tPACKAGE_VERSION_DATE:         2020-05-21                                    # core.instruments.constants.py\n",
       " \tGENERATE_CONFIG_FILE:         False                                         # core.instruments.constants.py\n",
       " \tOUTDIR:                       None                                          # core.instruments.constants.py\n",
       " \tADD_JITTER:                   True                                          # core.instruments.constants.py\n",
       " \tJITTER_RMS:                   7.0                                           # core.instruments.constants.py\n",
       " \tSCENE:                        None                                          # bin/test.py"
      ]
     },
     "execution_count": 6,
     "metadata": {},
     "output_type": "execute_result"
    }
   ],
   "source": [
    "params"
   ]
  },
  {
   "cell_type": "markdown",
   "metadata": {},
   "source": [
    "Let test this again with some arguments from the command line as follows:"
   ]
  },
  {
   "cell_type": "code",
   "execution_count": 7,
   "metadata": {},
   "outputs": [],
   "source": [
    "sys.argv = 'test.py --scene=test.fits --add_jitter=False'.split()"
   ]
  },
  {
   "cell_type": "code",
   "execution_count": 8,
   "metadata": {},
   "outputs": [],
   "source": [
    "kwargs = dict()                   # this is used for function calls\n",
    "params = param_functions.setup(lconsts, kwargs, description=__DESCRIPTION__)"
   ]
  },
  {
   "cell_type": "code",
   "execution_count": 9,
   "metadata": {},
   "outputs": [
    {
     "data": {
      "text/plain": [
       "ParamDict:\n",
       "\n",
       " \tUSER_CONFIG_FILE:             None                                          # core.instruments.constants.py\n",
       " \tPACKAGE_NAME:                 ami_sim_mtl                                   # core.instruments.constants.py\n",
       " \tPACKAGE_VERSION:              0.0.001                                       # core.instruments.constants.py\n",
       " \tPACKAGE_VERSION_DATE:         2020-05-21                                    # core.instruments.constants.py\n",
       " \tGENERATE_CONFIG_FILE:         False                                         # core.instruments.constants.py\n",
       " \tOUTDIR:                       None                                          # core.instruments.constants.py\n",
       " \tADD_JITTER:                   True                                          # sys.argv\n",
       " \tJITTER_RMS:                   7.0                                           # core.instruments.constants.py\n",
       " \tSCENE:                        test.fits                                     # sys.argv"
      ]
     },
     "execution_count": 9,
     "metadata": {},
     "output_type": "execute_result"
    }
   ],
   "source": [
    "params"
   ]
  },
  {
   "cell_type": "markdown",
   "metadata": {},
   "source": [
    "Note the difference between the value of `ADD_JITTER` and `SCENE` from the previous example, the source (third column above has also changed -- to `sys.argv`)"
   ]
  },
  {
   "cell_type": "markdown",
   "metadata": {},
   "source": [
    "## 2. Generating a constants file"
   ]
  },
  {
   "cell_type": "markdown",
   "metadata": {},
   "source": [
    "There is a special mode for any code using the param_fucntions.setup function.\n",
    "\n",
    "One can generate a config file with the current settings given (from command line / another config file / the constants file)\n",
    "\n",
    "This is done using the argument `--getconfig=True` (the default value is `--getconfig=False`)"
   ]
  },
  {
   "cell_type": "code",
   "execution_count": 10,
   "metadata": {},
   "outputs": [],
   "source": [
    "# set the command line arguments (for notebook only)\n",
    "sys.argv = 'test.py --getconfig=True'.split()"
   ]
  },
  {
   "cell_type": "code",
   "execution_count": 11,
   "metadata": {},
   "outputs": [
    {
     "name": "stdout",
     "output_type": "stream",
     "text": [
      "Writing constants file to ./outputs/user_config.ini\n"
     ]
    }
   ],
   "source": [
    "kwargs = dict()                   # this is used for function calls\n",
    "params = param_functions.setup(lconsts, kwargs, description=__DESCRIPTION__)"
   ]
  },
  {
   "cell_type": "markdown",
   "metadata": {},
   "source": [
    "As you can see above this added a file to `./outputs/` called `user_config.ini`\n",
    "\n",
    "This file can be called from the command line using the `--config` argument."
   ]
  },
  {
   "cell_type": "markdown",
   "metadata": {},
   "source": [
    "## 3. The help file"
   ]
  },
  {
   "cell_type": "markdown",
   "metadata": {},
   "source": [
    "As mentioned above the descriptions we gave of `SCENE` will appear in the help file.\n",
    "\n",
    "The help file is accessed as always through `-h` or `--help`. \n",
    "\n",
    "We can emulate this here with `sys.argv`:"
   ]
  },
  {
   "cell_type": "code",
   "execution_count": 12,
   "metadata": {},
   "outputs": [],
   "source": [
    "# set the command line arguments (for notebook only)\n",
    "sys.argv = 'test.py --help'.split()"
   ]
  },
  {
   "cell_type": "markdown",
   "metadata": {},
   "source": [
    "which will run when we run the `param_functions.setup` function:"
   ]
  },
  {
   "cell_type": "code",
   "execution_count": 13,
   "metadata": {},
   "outputs": [
    {
     "name": "stdout",
     "output_type": "stream",
     "text": [
      "usage: test.py [-h] [--config USER_CONFIG_FILE]\n",
      "               [--getconfig GENERATE_CONFIG_FILE] [--out OUTDIR]\n",
      "               [--add_jitter ADD_JITTER] [--jitter_rms JITTER_RMS]\n",
      "               [--scene SCENE]\n",
      "\n",
      "test script for AMI_SIM_MTL\n",
      "\n",
      "optional arguments:\n",
      "  -h, --help            show this help message and exit\n",
      "  --config USER_CONFIG_FILE\n",
      "                        Define the user config file\n",
      "  --getconfig GENERATE_CONFIG_FILE\n",
      "                        Define whether we want to generate a config file\n",
      "  --out OUTDIR          Define an output directory\n",
      "  --add_jitter ADD_JITTER\n",
      "                        Define whether to add the jitter\n",
      "  --jitter_rms JITTER_RMS\n",
      "                        Define the jitter rms level [mas]\n",
      "  --scene SCENE         Define the scene fits file\n"
     ]
    }
   ],
   "source": [
    "kwargs = dict()                   # this is used for function calls\n",
    "# ignore the try/except statement here it is just because the -h/--help argument will force an exit of python\n",
    "try:\n",
    "    params = param_functions.setup(lconsts, kwargs, description=__DESCRIPTION__)\n",
    "except SystemExit:\n",
    "    pass"
   ]
  },
  {
   "cell_type": "markdown",
   "metadata": {},
   "source": [
    "## 4. Use in a code"
   ]
  },
  {
   "cell_type": "markdown",
   "metadata": {},
   "source": [
    "We put the main code we with to run in a `__main__()` sub function so we can log and manage exception that come from the code. When we call the code we use the `main()` function that will run the parameter setup and handle any errors from our `__main__()` function. (By handle here I mean deal with exceptions and log/shut things done in a good way).\n",
    "\n",
    "A code using a good setup would look as follows:"
   ]
  },
  {
   "cell_type": "code",
   "execution_count": 14,
   "metadata": {},
   "outputs": [],
   "source": [
    "def main(**kwargs):\n",
    "    # get params (run time + config file + constants file)\n",
    "    params = param_functions.setup(lconsts, kwargs,\n",
    "                                   description=__DESCRIPTION__)\n",
    "    # run the __main__ to return products\n",
    "    if not params['GENERATE_CONFIG_FILE']:\n",
    "        # note eventually this will be a call to a function which manages exceptions\n",
    "        __main__(params)\n",
    "\n",
    "\n",
    "def __main__(params):\n",
    "    # main code here\n",
    "    print('Hello, World')\n",
    "    print('My code goes here')\n",
    "    \n",
    "    "
   ]
  },
  {
   "cell_type": "markdown",
   "metadata": {},
   "source": [
    "This is then called from the main code (or from an import) as follows:"
   ]
  },
  {
   "cell_type": "code",
   "execution_count": 15,
   "metadata": {},
   "outputs": [
    {
     "name": "stdout",
     "output_type": "stream",
     "text": [
      "Hello, World\n",
      "My code goes here\n"
     ]
    }
   ],
   "source": [
    "# For the note book we need to set the command line arguments\n",
    "sys.argv = 'test.py'.split()\n",
    "# run main code\n",
    "ll = main()\n"
   ]
  },
  {
   "cell_type": "markdown",
   "metadata": {},
   "source": [
    "Note to import this it would look as follows:\n",
    "\n",
    "\n",
    "```\n",
    "import test\n",
    "\n",
    "test.main()\n",
    "```\n",
    "\n",
    "\n",
    "where any parameters can be defined in the `.main()` call i.e.:"
   ]
  },
  {
   "cell_type": "code",
   "execution_count": 16,
   "metadata": {
    "scrolled": false
   },
   "outputs": [
    {
     "name": "stdout",
     "output_type": "stream",
     "text": [
      "Information for key = 'USER_CONFIG_FILE'\n",
      "\tData Type: \t\t NoneType\n",
      "\tValue: \t\t \tNone                                         \n",
      "\tSource: \t\t core.instruments.constants.py\n",
      "\tInstance: \t\t Constant[USER_CONFIG_FILE]\n",
      "Information for key = 'PACKAGE_NAME'\n",
      "\tData Type: \t\t str\n",
      "\tValue: \t\t \tami_sim_mtl                                  \n",
      "\tSource: \t\t core.instruments.constants.py\n",
      "\tInstance: \t\t Constant[PACKAGE_NAME]\n",
      "Information for key = 'PACKAGE_VERSION'\n",
      "\tData Type: \t\t str\n",
      "\tValue: \t\t \t0.0.001                                      \n",
      "\tSource: \t\t core.instruments.constants.py\n",
      "\tInstance: \t\t Constant[PACKAGE_VERSION]\n",
      "Information for key = 'PACKAGE_VERSION_DATE'\n",
      "\tData Type: \t\t str\n",
      "\tValue: \t\t \t2020-05-21                                   \n",
      "\tSource: \t\t core.instruments.constants.py\n",
      "\tInstance: \t\t Constant[PACKAGE_VERSION_DATE]\n",
      "Information for key = 'GENERATE_CONFIG_FILE'\n",
      "\tData Type: \t\t bool\n",
      "\tValue: \t\t \tFalse                                        \n",
      "\tSource: \t\t core.instruments.constants.py\n",
      "\tInstance: \t\t Constant[GENERATE_CONFIG_FILE]\n",
      "Information for key = 'OUTDIR'\n",
      "\tData Type: \t\t NoneType\n",
      "\tValue: \t\t \tNone                                         \n",
      "\tSource: \t\t core.instruments.constants.py\n",
      "\tInstance: \t\t Constant[OUTDIR]\n",
      "Information for key = 'ADD_JITTER'\n",
      "\tData Type: \t\t bool\n",
      "\tValue: \t\t \tFalse                                        \n",
      "\tSource: \t\t kwargs\n",
      "\tInstance: \t\t Constant[ADD_JITTER]\n",
      "Information for key = 'JITTER_RMS'\n",
      "\tData Type: \t\t float\n",
      "\tValue: \t\t \t7.0                                          \n",
      "\tSource: \t\t core.instruments.constants.py\n",
      "\tInstance: \t\t Constant[JITTER_RMS]\n",
      "Information for key = 'SCENE'\n",
      "\tData Type: \t\t str\n",
      "\tValue: \t\t \ttest.fits                                    \n",
      "\tSource: \t\t kwargs\n",
      "\tInstance: \t\t Constant[SCENE]\n"
     ]
    }
   ],
   "source": [
    "# just for the notebook\n",
    "sys.path.append('../bin/')\n",
    "# import code\n",
    "import paramtest\n",
    "\n",
    "# the parameter test function just prints out information about the parameters\n",
    "paramtest.main(add_jitter=False, scene='test.fits')"
   ]
  },
  {
   "cell_type": "markdown",
   "metadata": {},
   "source": [
    "Note again the values of `add_jitter` and `scene` and the source location (`kwargs`)"
   ]
  },
  {
   "cell_type": "markdown",
   "metadata": {},
   "source": [
    "## 5. The parameter dictionary (ParamDict)"
   ]
  },
  {
   "cell_type": "markdown",
   "metadata": {},
   "source": [
    "The paremeter dictionary has multiple useful features."
   ]
  },
  {
   "cell_type": "markdown",
   "metadata": {},
   "source": [
    "### 5.1 Parameter dictionary is case-insensitive\n",
    "\n",
    "This means unlike a normal dictionary you only have one value describing and characters i.e.:\n",
    "\n",
    "- PACKAGE_VERSION\n",
    "- Package_Version\n",
    "- package_version\n",
    "- PackAge_VerSion\n",
    "\n",
    "all link to the same constant:"
   ]
  },
  {
   "cell_type": "code",
   "execution_count": 17,
   "metadata": {},
   "outputs": [
    {
     "name": "stdout",
     "output_type": "stream",
     "text": [
      "version =  0.0.001\n",
      "version =  0.0.001\n",
      "version =  0.0.001\n",
      "version =  0.0.001\n"
     ]
    }
   ],
   "source": [
    "print('version = ', params['PACKAGE_VERSION'])\n",
    "print('version = ', params['Package_Version'])\n",
    "print('version = ', params['package_version'])\n",
    "print('version = ', params['PackAge_VerSion'])"
   ]
  },
  {
   "cell_type": "markdown",
   "metadata": {},
   "source": [
    "### 5.2 Parameter dictionary is locked\n",
    "\n",
    "In most cases the parameter dictionary `params` should not be added to or modified after the `setup` function. To aid this there is a locking mechanism that will prevent adding to or changing the parameter dictionary:"
   ]
  },
  {
   "cell_type": "code",
   "execution_count": 18,
   "metadata": {},
   "outputs": [
    {
     "name": "stdout",
     "output_type": "stream",
     "text": [
      "TEST =  2\n"
     ]
    }
   ],
   "source": [
    "params['TEST'] = 2\n",
    "print('TEST = ', params['TEST'])"
   ]
  },
  {
   "cell_type": "code",
   "execution_count": 19,
   "metadata": {},
   "outputs": [],
   "source": [
    "params.lock()"
   ]
  },
  {
   "cell_type": "code",
   "execution_count": 20,
   "metadata": {},
   "outputs": [
    {
     "ename": "ParamDictException",
     "evalue": "[set] ParamDict locked. \n\t Cannot add 'TEST'='1'\n\tFunc: core.core.constant_functions.py.ParamDict.__setitem__()",
     "output_type": "error",
     "traceback": [
      "\u001b[0;31m---------------------------------------------------------------------------\u001b[0m",
      "\u001b[0;31mParamDictException\u001b[0m                        Traceback (most recent call last)",
      "\u001b[0;32m<ipython-input-20-bf0438ca4220>\u001b[0m in \u001b[0;36m<module>\u001b[0;34m\u001b[0m\n\u001b[0;32m----> 1\u001b[0;31m \u001b[0mparams\u001b[0m\u001b[0;34m[\u001b[0m\u001b[0;34m'TEST'\u001b[0m\u001b[0;34m]\u001b[0m \u001b[0;34m=\u001b[0m \u001b[0;36m1\u001b[0m\u001b[0;34m\u001b[0m\u001b[0;34m\u001b[0m\u001b[0m\n\u001b[0m\u001b[1;32m      2\u001b[0m \u001b[0mprint\u001b[0m\u001b[0;34m(\u001b[0m\u001b[0;34m'TEST = '\u001b[0m\u001b[0;34m,\u001b[0m \u001b[0mparams\u001b[0m\u001b[0;34m[\u001b[0m\u001b[0;34m'TEST'\u001b[0m\u001b[0;34m]\u001b[0m\u001b[0;34m)\u001b[0m\u001b[0;34m\u001b[0m\u001b[0;34m\u001b[0m\u001b[0m\n",
      "\u001b[0;32m~/bin/jwst-mtl/AMI/AMI_SIM_MTL/ami_sim_mtl/core/core/param_functions.py\u001b[0m in \u001b[0;36m__setitem__\u001b[0;34m(self, key, value, source, instance)\u001b[0m\n\u001b[1;32m    329\u001b[0m             \u001b[0;31m# log that parameter dictionary is locked so we cannot set key\u001b[0m\u001b[0;34m\u001b[0m\u001b[0;34m\u001b[0m\u001b[0;34m\u001b[0m\u001b[0m\n\u001b[1;32m    330\u001b[0m             raise ParamException(emsg.format(*eargs), 'set', self,\n\u001b[0;32m--> 331\u001b[0;31m                                  funcname=func_name)\n\u001b[0m\u001b[1;32m    332\u001b[0m         \u001b[0;31m# if we dont have the key in sources set it regardless\u001b[0m\u001b[0;34m\u001b[0m\u001b[0;34m\u001b[0m\u001b[0;34m\u001b[0m\u001b[0m\n\u001b[1;32m    333\u001b[0m         \u001b[0;32mif\u001b[0m \u001b[0mkey\u001b[0m \u001b[0;32mnot\u001b[0m \u001b[0;32min\u001b[0m \u001b[0mself\u001b[0m\u001b[0;34m.\u001b[0m\u001b[0msources\u001b[0m\u001b[0;34m:\u001b[0m\u001b[0;34m\u001b[0m\u001b[0;34m\u001b[0m\u001b[0m\n",
      "\u001b[0;31mParamDictException\u001b[0m: [set] ParamDict locked. \n\t Cannot add 'TEST'='1'\n\tFunc: core.core.constant_functions.py.ParamDict.__setitem__()"
     ]
    }
   ],
   "source": [
    "params['TEST'] = 1\n",
    "print('TEST = ', params['TEST'])"
   ]
  },
  {
   "cell_type": "markdown",
   "metadata": {},
   "source": [
    "However in exceptional circumstances it is possible:"
   ]
  },
  {
   "cell_type": "code",
   "execution_count": 21,
   "metadata": {},
   "outputs": [
    {
     "name": "stdout",
     "output_type": "stream",
     "text": [
      "TEST =  3\n"
     ]
    }
   ],
   "source": [
    "params.set('TEST', value=3, source=__NAME__)\n",
    "print('TEST = ', params['TEST'])"
   ]
  },
  {
   "cell_type": "markdown",
   "metadata": {},
   "source": [
    "### 5.3 Find out where a parameter was defined:"
   ]
  },
  {
   "cell_type": "code",
   "execution_count": 22,
   "metadata": {},
   "outputs": [
    {
     "data": {
      "text/plain": [
       "'bin/test.py'"
      ]
     },
     "execution_count": 22,
     "metadata": {},
     "output_type": "execute_result"
    }
   ],
   "source": [
    "params.sources['SCENE']"
   ]
  },
  {
   "cell_type": "code",
   "execution_count": 23,
   "metadata": {},
   "outputs": [
    {
     "data": {
      "text/plain": [
       "'core.instruments.constants.py'"
      ]
     },
     "execution_count": 23,
     "metadata": {},
     "output_type": "execute_result"
    }
   ],
   "source": [
    "params.sources['PACKAGE_VERSION']"
   ]
  },
  {
   "cell_type": "markdown",
   "metadata": {},
   "source": [
    "### 5.4 Get information about parameters:"
   ]
  },
  {
   "cell_type": "code",
   "execution_count": 24,
   "metadata": {},
   "outputs": [
    {
     "name": "stdout",
     "output_type": "stream",
     "text": [
      "Information for key = 'SCENE'\n",
      "\tData Type: \t\t NoneType\n",
      "\tValue: \t\t \tNone                                         \n",
      "\tSource: \t\t bin/test.py\n",
      "\tInstance: \t\t Constant[SCENE]\n"
     ]
    }
   ],
   "source": [
    "params.info('SCENE')"
   ]
  },
  {
   "cell_type": "code",
   "execution_count": 25,
   "metadata": {},
   "outputs": [
    {
     "name": "stdout",
     "output_type": "stream",
     "text": [
      "Information for key = 'JITTER_RMS'\n",
      "\tData Type: \t\t float\n",
      "\tValue: \t\t \t7.0                                          \n",
      "\tSource: \t\t core.instruments.constants.py\n",
      "\tInstance: \t\t Constant[JITTER_RMS]\n"
     ]
    }
   ],
   "source": [
    "params.info('JITTER_RMS')"
   ]
  },
  {
   "cell_type": "markdown",
   "metadata": {},
   "source": [
    "### 5.5 Lists and dictionaries from strings\n",
    "\n",
    "Because config files and arguments may have trouble with inputs such as list and dictionary the parameter file has special ways to open these, these methods are `listp` and `dictp`."
   ]
  },
  {
   "cell_type": "code",
   "execution_count": 26,
   "metadata": {},
   "outputs": [],
   "source": [
    "# lets unlock the parameter dictionary for now\n",
    "params.unlock()\n",
    "\n",
    "# lets define a parameter (that may come from the constants file, config file or command line)\n",
    "# You'll notice the \"list\" here is not like python but just a python string separated by commas\n",
    "params['WAVES'] = '400, 500, 600'"
   ]
  },
  {
   "cell_type": "markdown",
   "metadata": {},
   "source": [
    "To use this 'string list' as a list we have the `listp` method:"
   ]
  },
  {
   "cell_type": "code",
   "execution_count": 27,
   "metadata": {},
   "outputs": [
    {
     "name": "stdout",
     "output_type": "stream",
     "text": [
      "[400.0, 500.0, 600.0]\n"
     ]
    }
   ],
   "source": [
    "wavelengths = params.listp('WAVES', dtype=float)\n",
    "print(wavelengths)"
   ]
  },
  {
   "cell_type": "markdown",
   "metadata": {},
   "source": [
    "The same is true for dictionaries (note be careful with the use of `'` and `\"`)"
   ]
  },
  {
   "cell_type": "code",
   "execution_count": 28,
   "metadata": {},
   "outputs": [],
   "source": [
    "params['COLOURS'] = 'dict(red=\"r\", blue=\"b\", green=\"g\")'\n",
    "params['PEOPLE'] = '{\"bob\":10, \"fred\":20, \"chris\": 30}'"
   ]
  },
  {
   "cell_type": "code",
   "execution_count": 29,
   "metadata": {},
   "outputs": [
    {
     "name": "stdout",
     "output_type": "stream",
     "text": [
      "{'red': 'r', 'blue': 'b', 'green': 'g'}\n"
     ]
    }
   ],
   "source": [
    "colours = params.dictp('COLOURS')\n",
    "print(colours)"
   ]
  },
  {
   "cell_type": "code",
   "execution_count": 30,
   "metadata": {},
   "outputs": [
    {
     "name": "stdout",
     "output_type": "stream",
     "text": [
      "{'bob': 10, 'fred': 20, 'chris': 30}\n"
     ]
    }
   ],
   "source": [
    "people = params.dictp('PEOPLE')\n",
    "print(people)"
   ]
  },
  {
   "cell_type": "markdown",
   "metadata": {},
   "source": [
    "In our constants file these would look as follows:\n",
    "\n",
    "    # define the wavelengths\n",
    "    WAVES = 400, 500, 600\n",
    "\n",
    "    # define the colours for plotting\n",
    "    COLOURS = dict(red=\"r\", blue=\"b\", green=\"g\")\n",
    "\n",
    "    # define the people\n",
    "    PEOPLE = {\"bob\":10, \"fred\":20, \"chris\": 30}\n"
   ]
  },
  {
   "cell_type": "markdown",
   "metadata": {},
   "source": [
    "### 5.6 Finding a parameter\n",
    "\n",
    "There are some useful string methods that are also usable to search for specific keys (useful when there are many constants defined)"
   ]
  },
  {
   "cell_type": "code",
   "execution_count": 31,
   "metadata": {},
   "outputs": [
    {
     "data": {
      "text/plain": [
       "['PACKAGE_NAME', 'PACKAGE_VERSION', 'PACKAGE_VERSION_DATE']"
      ]
     },
     "execution_count": 31,
     "metadata": {},
     "output_type": "execute_result"
    }
   ],
   "source": [
    "params.startswith('PACK')"
   ]
  },
  {
   "cell_type": "code",
   "execution_count": 32,
   "metadata": {},
   "outputs": [
    {
     "data": {
      "text/plain": [
       "['ADD_JITTER', 'JITTER_RMS']"
      ]
     },
     "execution_count": 32,
     "metadata": {},
     "output_type": "execute_result"
    }
   ],
   "source": [
    "params.contains('JITTER')"
   ]
  },
  {
   "cell_type": "code",
   "execution_count": 33,
   "metadata": {},
   "outputs": [
    {
     "data": {
      "text/plain": [
       "['USER_CONFIG_FILE', 'GENERATE_CONFIG_FILE']"
      ]
     },
     "execution_count": 33,
     "metadata": {},
     "output_type": "execute_result"
    }
   ],
   "source": [
    "params.endswith('FILE')"
   ]
  },
  {
   "cell_type": "code",
   "execution_count": null,
   "metadata": {},
   "outputs": [],
   "source": []
  }
 ],
 "metadata": {
  "kernelspec": {
   "display_name": "Python 3",
   "language": "python",
   "name": "python3"
  },
  "language_info": {
   "codemirror_mode": {
    "name": "ipython",
    "version": 3
   },
   "file_extension": ".py",
   "mimetype": "text/x-python",
   "name": "python",
   "nbconvert_exporter": "python",
   "pygments_lexer": "ipython3",
   "version": "3.7.6"
  }
 },
 "nbformat": 4,
 "nbformat_minor": 4
}
